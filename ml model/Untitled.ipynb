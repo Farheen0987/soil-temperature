{
 "cells": [
  {
   "cell_type": "code",
   "execution_count": 23,
   "id": "d5ba739f",
   "metadata": {},
   "outputs": [
    {
     "name": "stdout",
     "output_type": "stream",
     "text": [
      " * Serving Flask app '__main__'\n",
      " * Debug mode: off\n"
     ]
    },
    {
     "name": "stderr",
     "output_type": "stream",
     "text": [
      "WARNING: This is a development server. Do not use it in a production deployment. Use a production WSGI server instead.\n",
      " * Running on http://127.0.0.1:5000\n",
      "Press CTRL+C to quit\n",
      "127.0.0.1 - - [12/May/2024 16:04:08] \"GET / HTTP/1.1\" 200 -\n",
      "127.0.0.1 - - [12/May/2024 16:04:15] \"GET /static/style.css HTTP/1.1\" 304 -\n",
      "127.0.0.1 - - [12/May/2024 16:04:21] \"GET /upload HTTP/1.1\" 200 -\n",
      "127.0.0.1 - - [12/May/2024 16:04:52] \"GET /static/style.css HTTP/1.1\" 304 -\n"
     ]
    },
    {
     "name": "stdout",
     "output_type": "stream",
     "text": [
      "1/1 [==============================] - 0s 300ms/step\n",
      "['[[19.886211]]']\n"
     ]
    },
    {
     "name": "stderr",
     "output_type": "stream",
     "text": [
      "127.0.0.1 - - [12/May/2024 16:05:38] \"POST /upload HTTP/1.1\" 200 -\n"
     ]
    }
   ],
   "source": [
    "from flask import Flask, render_template, request, redirect, url_for\n",
    "import tensorflow as tf\n",
    "import requests\n",
    "from PIL import Image\n",
    "import numpy as np\n",
    "\n",
    "app = Flask(__name__, static_url_path='/static', static_folder='E://Python 3.10//ml model//static' ,template_folder='E://Python 3.10//ml model//templates//')\n",
    "\n",
    "# Replace with your model loading logic (assuming some_ml_library provides a load_model function)\n",
    "model = tf.keras.models.load_model(\"E://application//temp_cnn.h5\",compile=False)\n",
    "model.compile(optimizer='adam',loss='mse')\n",
    "\n",
    "@app.route(\"/\")\n",
    "def splash():\n",
    "    return render_template(\"splash.html\")\n",
    "\n",
    "@app.route(\"/upload\", methods=[\"GET\", \"POST\"])\n",
    "def upload():\n",
    "    if request.method == \"POST\":\n",
    "        # Get uploaded images and air temperature\n",
    "        images = request.files.getlist(\"images\")\n",
    "        air_temp = int(request.form[\"air_temp\"])\n",
    "#         image = Image.open(images)\n",
    "        predictions=[]\n",
    "        for up_images in images:\n",
    "            \n",
    "            image=Image.open(up_images)\n",
    "            image = image.resize((224, 224))\n",
    "            image_array = np.array(image) / 255.0\n",
    "            image_array = np.expand_dims(image_array, axis=0)\n",
    "            air_temp_input = np.array([[air_temp]])        # Make prediction\n",
    "            prediction = model.predict([image_array, air_temp_input])\n",
    "            predictions.append(str(prediction))  # Convert prediction array to string\n",
    "            print(predictions)\n",
    "        return render_template(\"prediction.html\", predictions=predictions)\n",
    "    return render_template(\"upload.html\")\n",
    "\n",
    "@app.route(\"/prediction/<predictions>\")\n",
    "def prediction(predictions):\n",
    "    # Convert comma-separated predictions to a list\n",
    "    prediction_list = predictions.split(\",\")\n",
    "    return render_template(\"prediction.html\", predictions=prediction_list)\n",
    "\n",
    "if __name__ == \"__main__\":\n",
    "    app.run()\n"
   ]
  },
  {
   "cell_type": "code",
   "execution_count": 5,
   "id": "b2176ffc",
   "metadata": {},
   "outputs": [],
   "source": [
    "model = tf.keras.models.load_model(\"E://application//temp_cnn.h5\",compile=False)\n",
    "model.compile(optimizer='adam',loss='mse')\n"
   ]
  },
  {
   "cell_type": "code",
   "execution_count": 4,
   "id": "f996b6fa",
   "metadata": {},
   "outputs": [
    {
     "name": "stdout",
     "output_type": "stream",
     "text": [
      "1/1 [==============================] - 0s 47ms/step\n",
      "[[20.29297]]\n"
     ]
    }
   ],
   "source": [
    "images = \"E://raw soil//Image 4 - AN1_1.jpg\"\n",
    "air_temp = 29\n",
    "image = Image.open(images)\n",
    "image = image.resize((224, 224))\n",
    "image_array = np.array(image) / 255.0\n",
    "image_array = np.expand_dims(image_array, axis=0)\n",
    "air_temp_input = np.array([[air_temp]])        # Make prediction\n",
    "prediction = model.predict([image_array, air_temp_input])\n",
    "print(prediction)"
   ]
  },
  {
   "cell_type": "code",
   "execution_count": null,
   "id": "b3b6ddb0",
   "metadata": {},
   "outputs": [],
   "source": []
  }
 ],
 "metadata": {
  "kernelspec": {
   "display_name": "Python 3 (ipykernel)",
   "language": "python",
   "name": "python3"
  },
  "language_info": {
   "codemirror_mode": {
    "name": "ipython",
    "version": 3
   },
   "file_extension": ".py",
   "mimetype": "text/x-python",
   "name": "python",
   "nbconvert_exporter": "python",
   "pygments_lexer": "ipython3",
   "version": "3.10.12"
  }
 },
 "nbformat": 4,
 "nbformat_minor": 5
}
